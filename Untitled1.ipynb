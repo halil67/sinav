{
 "cells": [
  {
   "cell_type": "code",
   "execution_count": 6,
   "id": "0a5a3371",
   "metadata": {},
   "outputs": [
    {
     "name": "stderr",
     "output_type": "stream",
     "text": [
      "İşlem ilerliyor: 100%|██████████| 1000/1000 [00:10<00:00, 95.23it/s]\n"
     ]
    }
   ],
   "source": [
    "from tqdm import tqdm\n",
    "import time\n",
    "\n",
    "# İlerleme çubuğunu kullanmak istediğiniz işlem veya döngüyü başlatın\n",
    "x=[a for a in range(1000)]\n",
    "for i in tqdm(x, desc=\"İşlem ilerliyor\"):\n",
    "    # Simüle edilen işlem için bekleyin (burada sadece zaman geçiriyoruz)\n",
    "    time.sleep(0.01)"
   ]
  },
  {
   "cell_type": "code",
   "execution_count": null,
   "id": "175adfc6",
   "metadata": {},
   "outputs": [],
   "source": []
  }
 ],
 "metadata": {
  "kernelspec": {
   "display_name": "Python 3 (ipykernel)",
   "language": "python",
   "name": "python3"
  },
  "language_info": {
   "codemirror_mode": {
    "name": "ipython",
    "version": 3
   },
   "file_extension": ".py",
   "mimetype": "text/x-python",
   "name": "python",
   "nbconvert_exporter": "python",
   "pygments_lexer": "ipython3",
   "version": "3.11.3"
  }
 },
 "nbformat": 4,
 "nbformat_minor": 5
}
